{
 "cells": [
  {
   "cell_type": "code",
   "execution_count": 19,
   "id": "1639c8f3-85b8-4c1c-9286-4c55da1b2134",
   "metadata": {},
   "outputs": [],
   "source": [
    "from PIL import Image"
   ]
  },
  {
   "cell_type": "code",
   "execution_count": 20,
   "id": "5c0178aa-ec00-4bc9-a8ef-c09fbf06b48b",
   "metadata": {},
   "outputs": [],
   "source": [
    "#Directory Image    Note: \\->/\n",
    "dir = 'C:/Users/admin/Desktop/Tu-hoc-main/Tu-hoc-main/ComputerVision/img/01'"
   ]
  },
  {
   "cell_type": "code",
   "execution_count": 21,
   "id": "761f10c0-958d-4b06-87ff-fdc69b37d087",
   "metadata": {},
   "outputs": [
    {
     "name": "stdout",
     "output_type": "stream",
     "text": [
      "C:/Users/admin/Desktop/Tu-hoc-main/Tu-hoc-main/ComputerVision/img/01/1.JPG\n"
     ]
    }
   ],
   "source": [
    "#Image Path\n",
    "image_path = dir +'/1.JPG'\n",
    "print(image_path)"
   ]
  },
  {
   "cell_type": "code",
   "execution_count": 22,
   "id": "c92dad7c-6d70-47d2-986d-8e7aec1832c6",
   "metadata": {},
   "outputs": [],
   "source": [
    "#read Image\n",
    "img01 = Image.open(image_path)"
   ]
  },
  {
   "cell_type": "code",
   "execution_count": 23,
   "id": "a34d753b-262e-470c-84cf-792e533a91b1",
   "metadata": {},
   "outputs": [
    {
     "name": "stdout",
     "output_type": "stream",
     "text": [
      "Format: JPEG\n",
      "Size:  (500, 332)\n"
     ]
    }
   ],
   "source": [
    "print(\"Format: \" + img01.format)\n",
    "print(\"Size: \" , img01.size)"
   ]
  },
  {
   "cell_type": "code",
   "execution_count": 16,
   "id": "e677817c-6887-4694-8ec2-86f5d88d469d",
   "metadata": {},
   "outputs": [],
   "source": [
    "# Close \n",
    "img01.close()\n",
    "#Delete img01 = NULL"
   ]
  },
  {
   "cell_type": "markdown",
   "id": "9791f16d-989d-4718-89b6-efdbe20d4049",
   "metadata": {},
   "source": [
    "#Save Image\n",
    "new_img_01_path = dir + '/new_01.JPG'\n",
    "new_img_png_01_path = dir + '/new_01.png'\n",
    "img01.save(new_img_01_path)\n",
    "img01.save(new_img_png_01_path)"
   ]
  },
  {
   "attachments": {
    "bf517665-e973-4b58-8235-2a4f570fdad2.png": {
     "image/png": "[encoded data removed]"
    }
   },
   "cell_type": "markdown",
   "id": "2b2c4eef-2455-4aaa-bbe0-805cff165e2d",
   "metadata": {},
   "source": [
    "![image.png](attachment:bf517665-e973-4b58-8235-2a4f570fdad2.png)"
   ]
  },
  {
   "cell_type": "code",
   "execution_count": null,
   "id": "405e528b-c451-42c4-ad8d-26f64be21fff",
   "metadata": {},
   "outputs": [],
   "source": []
  }
 ],
 "metadata": {
  "kernelspec": {
   "display_name": "Python 3 (ipykernel)",
   "language": "python",
   "name": "python3"
  },
  "language_info": {
   "codemirror_mode": {
    "name": "ipython",
    "version": 3
   },
   "file_extension": ".py",
   "mimetype": "text/x-python",
   "name": "python",
   "nbconvert_exporter": "python",
   "pygments_lexer": "ipython3",
   "version": "3.12.7"
  }
 },
 "nbformat": 4,
 "nbformat_minor": 5
}
